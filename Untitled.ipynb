{
 "cells": [
  {
   "cell_type": "code",
   "execution_count": null,
   "id": "d027e123",
   "metadata": {},
   "outputs": [],
   "source": [
    "import nltk\n",
    "from flask import request\n",
    "from flask import jsonify\n",
    "from flask import Flask, render_template\n",
    "app = Flask(__name__,template_folder=\"templates\")\n",
    "@app.route('/')\n",
    "def my_form():\n",
    "    return render_template('index.html')\n",
    "@app.route('/', methods=['POST'])\n",
    "def my_form_post():\n",
    "    text = request.form['text']\n",
    "    nltk.download('vader_lexicon')\n",
    "    from nltk.sentiment.vader import SentimentIntensityAnalyzer\n",
    "    sid = SentimentIntensityAnalyzer()\n",
    "    score = ((sid.polarity_scores(str(text))))['compound']\n",
    "    if(score > 0):\n",
    "        label = 'This sentence is positive'\n",
    "    elif(score == 0):\n",
    "        label = 'This sentence is neutral'\n",
    "    else:\n",
    "        label = 'This sentence is negative'\n",
    "    return(render_template('index.html', variable=label))\n",
    "if __name__ == \"__main__\":\n",
    "    app.run(debug=False)"
   ]
  },
  {
   "cell_type": "code",
   "execution_count": null,
   "id": "b40490e2",
   "metadata": {},
   "outputs": [],
   "source": []
  }
 ],
 "metadata": {
  "kernelspec": {
   "display_name": "Python 3 (ipykernel)",
   "language": "python",
   "name": "python3"
  },
  "language_info": {
   "codemirror_mode": {
    "name": "ipython",
    "version": 3
   },
   "file_extension": ".py",
   "mimetype": "text/x-python",
   "name": "python",
   "nbconvert_exporter": "python",
   "pygments_lexer": "ipython3",
   "version": "3.9.12"
  }
 },
 "nbformat": 4,
 "nbformat_minor": 5
}
